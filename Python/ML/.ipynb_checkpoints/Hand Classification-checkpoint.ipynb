{
 "cells": [
  {
   "cell_type": "code",
   "execution_count": 12,
   "metadata": {},
   "outputs": [],
   "source": [
    "from keras.preprocessing.image import ImageDataGenerator\n",
    "from keras.models import Sequential\n",
    "from keras.layers import Conv2D, MaxPooling2D\n",
    "from keras.layers import Activation, Dropout, Flatten, Dense\n",
    "from keras import backend as K\n",
    "from keras import regularizers\n",
    "import matplotlib.pyplot as plt\n",
    "import numpy as np\n",
    "import PIL\n",
    "from PIL import Image\n",
    "import cv2\n",
    "import glob"
   ]
  },
  {
   "cell_type": "code",
   "execution_count": 72,
   "metadata": {},
   "outputs": [],
   "source": [
    "def createModel(input_shape):\n",
    "    model = Sequential()\n",
    "    \n",
    "    model.add(Conv2D(8, (3, 3), input_shape = input_shape, activation = 'relu'))\n",
    "    model.add(MaxPooling2D(pool_size = (2, 2)))\n",
    "    model.add(Conv2D(8, (3, 3), input_shape = input_shape, activation = 'relu'))\n",
    "    model.add(MaxPooling2D(pool_size = (2, 2)))\n",
    "    model.add(Conv2D(16, (3, 3), input_shape = input_shape, activation = 'relu'))\n",
    "    model.add(MaxPooling2D(pool_size = (2, 2)))\n",
    "\n",
    "    model.add(Flatten())\n",
    "    \n",
    "    model.add(Dense(units = 16,activation = 'relu'))\n",
    "    \n",
    "#     model.add(Dropout(0.5))\n",
    "    model.add(Dense(units = 1, activation = 'sigmoid'))\n",
    "\n",
    "    \n",
    "    \n",
    "    return model"
   ]
  },
  {
   "cell_type": "code",
   "execution_count": 74,
   "metadata": {},
   "outputs": [
    {
     "name": "stdout",
     "output_type": "stream",
     "text": [
      "Found 4200 images belonging to 2 classes.\n",
      "Found 1166 images belonging to 2 classes.\n",
      "Epoch 1/10\n",
      "30/30 [==============================] - 4s 147ms/step - loss: 0.7055 - acc: 0.5417 - val_loss: 0.7043 - val_acc: 0.3698\n",
      "Epoch 2/10\n",
      "30/30 [==============================] - 4s 127ms/step - loss: 0.6654 - acc: 0.6146 - val_loss: 0.7249 - val_acc: 0.3698\n",
      "Epoch 3/10\n",
      "30/30 [==============================] - 4s 126ms/step - loss: 0.6085 - acc: 0.6957 - val_loss: 0.7719 - val_acc: 0.0260\n",
      "Epoch 4/10\n",
      "30/30 [==============================] - 4s 129ms/step - loss: 0.5303 - acc: 0.7521 - val_loss: 0.9519 - val_acc: 0.0781\n",
      "Epoch 5/10\n",
      "30/30 [==============================] - 4s 130ms/step - loss: 0.4513 - acc: 0.8062 - val_loss: 0.6936 - val_acc: 0.5469\n",
      "Epoch 6/10\n",
      "30/30 [==============================] - 4s 132ms/step - loss: 0.4019 - acc: 0.8188 - val_loss: 0.8446 - val_acc: 0.5833\n",
      "Epoch 7/10\n",
      "30/30 [==============================] - 4s 131ms/step - loss: 0.3291 - acc: 0.8750 - val_loss: 0.8913 - val_acc: 0.6198\n",
      "Epoch 8/10\n",
      "30/30 [==============================] - 4s 131ms/step - loss: 0.3010 - acc: 0.8792 - val_loss: 0.7768 - val_acc: 0.6302\n",
      "Epoch 9/10\n",
      "30/30 [==============================] - 4s 135ms/step - loss: 0.2756 - acc: 0.8895 - val_loss: 0.8100 - val_acc: 0.6302\n",
      "Epoch 10/10\n",
      "30/30 [==============================] - 4s 131ms/step - loss: 0.2322 - acc: 0.9062 - val_loss: 1.0934 - val_acc: 0.6302\n"
     ]
    }
   ],
   "source": [
    "\n",
    "# dimensions of our images.\n",
    "img_width, img_height = 150, 150\n",
    "\n",
    "train_data_dir = 'Train/'\n",
    "validation_data_dir = 'Validate/'\n",
    "nb_train_samples = 488\n",
    "nb_validation_samples = 200\n",
    "epochs = 10\n",
    "batch_size = 16\n",
    "\n",
    "if K.image_data_format() == 'channels_first':\n",
    "    input_shape = (3, img_width, img_height)\n",
    "else:\n",
    "    input_shape = (img_width, img_height, 3)\n",
    "\n",
    "model = createModel(input_shape)\n",
    "\n",
    "model.compile(loss='binary_crossentropy',\n",
    "              optimizer=\"adam\",\n",
    "              metrics=['accuracy'])\n",
    "\n",
    "# this is the augmentation configuration we will use for training\n",
    "train_datagen = ImageDataGenerator(\n",
    "    samplewise_center = True,\n",
    "    samplewise_std_normalization=True,\n",
    "    rotation_range=360,\n",
    "    rescale=1. / 255,\n",
    "    shear_range=0.2,\n",
    "    zoom_range=0.2,\n",
    "    horizontal_flip=True)\n",
    "\n",
    "# this is the augmentation configuration we will use for testing:\n",
    "# only rescaling\n",
    "test_datagen = ImageDataGenerator(rescale=1. / 255)\n",
    "\n",
    "train_generator = train_datagen.flow_from_directory(\n",
    "    train_data_dir,\n",
    "    target_size=(img_width, img_height),\n",
    "    batch_size=batch_size,\n",
    "    class_mode='binary')\n",
    "\n",
    "validation_generator = test_datagen.flow_from_directory(\n",
    "    validation_data_dir,\n",
    "    target_size=(img_width, img_height),\n",
    "    batch_size=batch_size,\n",
    "    class_mode='binary')\n",
    "\n",
    "model.fit_generator(\n",
    "    train_generator,\n",
    "    steps_per_epoch=nb_train_samples // batch_size,\n",
    "    epochs=epochs,\n",
    "    validation_data=validation_generator,\n",
    "    validation_steps=nb_validation_samples // batch_size)\n",
    "\n",
    "model.save_weights('hand.h5')"
   ]
  },
  {
   "cell_type": "code",
   "execution_count": 7,
   "metadata": {},
   "outputs": [],
   "source": [
    "# preloaded\n",
    "input_shape = (150, 150, 3)\n",
    "model = createModel(input_shape)\n",
    "model.load_weights(\"hand.h5\")"
   ]
  },
  {
   "cell_type": "code",
   "execution_count": 75,
   "metadata": {},
   "outputs": [
    {
     "name": "stdout",
     "output_type": "stream",
     "text": [
      "['Test/356585_random.jpg', 'Test/959265_random.jpg', 'Test/313478_hand.jpg', 'Test/549947_random.jpg', 'Test/894056_hand.jpg', 'Test/162327_random.jpg', 'Test/956365_hand.jpg', 'Test/289946_hand.jpg', 'Test/25350_hand.jpg', 'Test/191090_random.jpg', 'Test/214575_hand.jpg', 'Test/830448_hand.jpg', 'Test/485557_random.jpg', 'Test/197863_hand.jpg', 'Test/487238_hand.jpg', 'Test/779591_hand.jpg', 'Test/925606_random.jpg', 'Test/785554_hand.jpg', 'Test/674798_hand.jpg', 'Test/897723_random.jpg', 'Test/50924_hand.jpg', 'Test/991940_hand.jpg']\n"
     ]
    }
   ],
   "source": [
    "test = []\n",
    "filenames = glob.glob(\"Test/\" + \"*.jpg\")\n",
    "# np.random.shuffle(filenames)\n",
    "print(filenames)\n",
    "for i in filenames:\n",
    "    im = np.asarray(cv2.imread(i))\n",
    "    im = cv2.cvtColor(im, cv2.COLOR_BGR2RGB)*(1./255)\n",
    "    test.append(im)"
   ]
  },
  {
   "cell_type": "code",
   "execution_count": 76,
   "metadata": {},
   "outputs": [
    {
     "data": {
      "text/plain": [
       "array([[0.0775],\n",
       "       [0.0756],\n",
       "       [0.0809],\n",
       "       [0.0765],\n",
       "       [0.0803],\n",
       "       [0.0728],\n",
       "       [0.0816],\n",
       "       [0.0806],\n",
       "       [0.0803],\n",
       "       [0.0782],\n",
       "       [0.0833],\n",
       "       [0.0801],\n",
       "       [0.077 ],\n",
       "       [0.0789],\n",
       "       [0.0807],\n",
       "       [0.0785],\n",
       "       [0.0763],\n",
       "       [0.0814],\n",
       "       [0.0813],\n",
       "       [0.074 ]], dtype=float32)"
      ]
     },
     "execution_count": 76,
     "metadata": {},
     "output_type": "execute_result"
    }
   ],
   "source": [
    "np.set_printoptions(suppress=True)\n",
    "np.round(model.predict(np.array(test[0:20])), 4)"
   ]
  },
  {
   "cell_type": "code",
   "execution_count": null,
   "metadata": {},
   "outputs": [],
   "source": []
  }
 ],
 "metadata": {
  "kernelspec": {
   "display_name": "Python 3",
   "language": "python",
   "name": "python3"
  },
  "language_info": {
   "codemirror_mode": {
    "name": "ipython",
    "version": 3
   },
   "file_extension": ".py",
   "mimetype": "text/x-python",
   "name": "python",
   "nbconvert_exporter": "python",
   "pygments_lexer": "ipython3",
   "version": "3.6.5"
  }
 },
 "nbformat": 4,
 "nbformat_minor": 2
}
