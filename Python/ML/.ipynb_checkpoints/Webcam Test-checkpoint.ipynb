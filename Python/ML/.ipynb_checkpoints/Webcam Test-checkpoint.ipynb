{
 "cells": [
  {
   "cell_type": "code",
   "execution_count": 21,
   "metadata": {},
   "outputs": [],
   "source": [
    "# Always sort import statements by length\n",
    "import cv2\n",
    "import time\n",
    "import scipy\n",
    "import string\n",
    "import random\n",
    "import requests\n",
    "import numpy as np\n",
    "\n",
    "from keras.applications.inception_v3 import InceptionV3\n",
    "from keras.preprocessing import image\n",
    "from keras.models import Model\n",
    "from keras.layers import Dense, GlobalAveragePooling2D\n",
    "from keras.preprocessing.image import ImageDataGenerator\n",
    "from keras import backend as K\n",
    "from keras.callbacks import ModelCheckpoint\n",
    "from keras.callbacks import TensorBoard\n",
    "import os.path\n",
    "import glob\n",
    "\n",
    "import matplotlib.pyplot as plt\n",
    "import matplotlib.animation as animation"
   ]
  },
  {
   "cell_type": "code",
   "execution_count": 15,
   "metadata": {},
   "outputs": [],
   "source": [
    "def createModel(base_model):\n",
    "\n",
    "    # add a global spatial average pooling layer\n",
    "    x = base_model.output\n",
    "    x = GlobalAveragePooling2D()(x)\n",
    "    # let's add a fully-connected layer\n",
    "    x = Dense(1024, activation='relu')(x)\n",
    "    # and a logistic layer -- we have 2 classes\n",
    "    predictions = Dense(2, activation='softmax')(x)\n",
    "\n",
    "    # this is the model we will train\n",
    "    model = Model(inputs=base_model.input, outputs=predictions)\n",
    "    \n",
    "    return model\n",
    "\n",
    "def animate(xar, yar):\n",
    "    ax1.clear()\n",
    "    ax1.plot(xar,yar)"
   ]
  },
  {
   "cell_type": "code",
   "execution_count": 19,
   "metadata": {},
   "outputs": [],
   "source": [
    "cap = cv2.VideoCapture(0)\n",
    "\n",
    "base_model = InceptionV3(weights='imagenet', include_top=False)\n",
    "model = createModel(base_model)\n",
    "model.load_weights('final_weights.hdf5')\n",
    "\n",
    "while True:\n",
    "    ret, frame = cap.read()\n",
    "    im = cv2.resize(frame, (150,150), interpolation=cv2.INTER_NEAREST)\n",
    "    im = cv2.cvtColor(im, cv2.COLOR_BGR2RGB)*(1./255)\n",
    "    im = np.expand_dims(im, axis=0)\n",
    "    hand = np.round(model.predict(np.array(im)), 2)\n",
    "\n",
    "    cv2.putText(frame, str(hand), (10, 50), cv2.FONT_HERSHEY_PLAIN, 2, (0,255, 0), 2)\n",
    "    \n",
    "    ani = animation.FuncAnimation(fig, animate, interval=10)\n",
    "    plt.show()\n",
    "    \n",
    "    \n",
    "    \n",
    "    \n",
    "    if ret:\n",
    "        cv2.imshow('frame', frame)\n",
    "    else:\n",
    "        break\n",
    "\n",
    "    if cv2.waitKey(1) & 0xFF == ord('q'):\n",
    "        cap.release()\n",
    "        cv2.destroyAllWindows()\n",
    "        break\n",
    "        \n",
    "\n",
    "cap.release()\n",
    "cv2.destroyAllWindows()"
   ]
  },
  {
   "cell_type": "code",
   "execution_count": null,
   "metadata": {},
   "outputs": [],
   "source": []
  }
 ],
 "metadata": {
  "kernelspec": {
   "display_name": "Python 3",
   "language": "python",
   "name": "python3"
  },
  "language_info": {
   "codemirror_mode": {
    "name": "ipython",
    "version": 3
   },
   "file_extension": ".py",
   "mimetype": "text/x-python",
   "name": "python",
   "nbconvert_exporter": "python",
   "pygments_lexer": "ipython3",
   "version": "3.6.5"
  }
 },
 "nbformat": 4,
 "nbformat_minor": 2
}
