{
 "cells": [
  {
   "cell_type": "code",
   "execution_count": 1,
   "metadata": {},
   "outputs": [],
   "source": [
    "import socket\n",
    "import time\n",
    "import numpy as np\n",
    "import keyboard #Using module keyboard\n",
    "\n",
    "# takes in a string and returns its TCP message bytes\n",
    "def textToMessage(text):\n",
    "    return bytes([0x01,0x55]) + bytes(text, \"utf-8\")"
   ]
  },
  {
   "cell_type": "code",
   "execution_count": 108,
   "metadata": {},
   "outputs": [
    {
     "name": "stdout",
     "output_type": "stream",
     "text": [
      "gostrait\r\n"
     ]
    }
   ],
   "source": [
    "TCP_IP = \"192.168.100.1\"\n",
    "TCP_PORT = 80\n",
    "MESSAGE = textToMessage(\"gostrait\")\n",
    "s = socket.socket(socket.AF_INET, socket.SOCK_STREAM)\n",
    "s.settimeout(0.1)\n",
    "s.connect((TCP_IP, TCP_PORT))\n",
    "s.sendall(MESSAGE)\n",
    "time.sleep(0.3)\n",
    "print(str(s.recv(8192), \"utf-8\").split(\"\\n\")[1])\n",
    "s.close()\n",
    "\n"
   ]
  },
  {
   "cell_type": "code",
   "execution_count": 5,
   "metadata": {},
   "outputs": [],
   "source": [
    "\n",
    "TCP_IP = \"192.168.100.1\"\n",
    "TCP_PORT = 80\n",
    "s = socket.socket(socket.AF_INET, socket.SOCK_STREAM)\n",
    "s.settimeout(0.1)\n",
    "s.connect((TCP_IP, TCP_PORT))\n",
    "\n",
    "while True:\n",
    "    try: \n",
    "        if keyboard.is_pressed('w'):\n",
    "            s.sendall(textToMessage(\"gostrait\"))\n",
    "            time.sleep(0.11)\n",
    "            \n",
    "        elif keyboard.is_pressed('d'):\n",
    "            s.sendall(textToMessage(\"turnleft\"))\n",
    "            time.sleep(0.11)\n",
    "            \n",
    "        elif keyboard.is_pressed('a'):\n",
    "            s.sendall(textToMessage(\"turnrite\"))\n",
    "            time.sleep(0.11)\n",
    "            \n",
    "        elif keyboard.is_pressed('s'):\n",
    "            s.sendall(textToMessage(\"gorevers\"))\n",
    "            time.sleep(0.11)\n",
    "            \n",
    "        elif keyboard.is_pressed('r'):\n",
    "            s.sendall(textToMessage(\"maxspeed\"))\n",
    "            time.sleep(0.5)\n",
    "            \n",
    "        elif keyboard.is_pressed('f'):\n",
    "            s.sendall(textToMessage(\"minspeed\"))\n",
    "            time.sleep(0.5)\n",
    "            \n",
    "        else:\n",
    "            pass\n",
    "    except:\n",
    "        s.close()\n",
    "        break"
   ]
  },
  {
   "cell_type": "code",
   "execution_count": null,
   "metadata": {},
   "outputs": [],
   "source": []
  },
  {
   "cell_type": "code",
   "execution_count": null,
   "metadata": {},
   "outputs": [],
   "source": []
  },
  {
   "cell_type": "code",
   "execution_count": null,
   "metadata": {},
   "outputs": [],
   "source": []
  },
  {
   "cell_type": "code",
   "execution_count": null,
   "metadata": {},
   "outputs": [],
   "source": []
  },
  {
   "cell_type": "code",
   "execution_count": null,
   "metadata": {},
   "outputs": [],
   "source": []
  }
 ],
 "metadata": {
  "kernelspec": {
   "display_name": "Python 3",
   "language": "python",
   "name": "python3"
  },
  "language_info": {
   "codemirror_mode": {
    "name": "ipython",
    "version": 3
   },
   "file_extension": ".py",
   "mimetype": "text/x-python",
   "name": "python",
   "nbconvert_exporter": "python",
   "pygments_lexer": "ipython3",
   "version": "3.6.5"
  }
 },
 "nbformat": 4,
 "nbformat_minor": 2
}
